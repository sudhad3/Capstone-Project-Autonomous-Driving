{
 "cells": [
  {
   "cell_type": "code",
   "execution_count": null,
   "metadata": {},
   "outputs": [],
   "source": [
    "# Use this code to resize images and masks\n",
    "# Set following variables properly:\n",
    "# 1. DATA_DIR - The root directory that contains other sub directories like train_color, train_label etc.\n",
    "# 2. IMG_DIR  - This is the directory under DATA_DIR where images reside\n",
    "# 3. MASK_DIR - This is the directory under DATA_DIR where masks reside\n",
    "# 4. IMG_TARGET_DIR - After resizing, images go this directory. Please ensure it's empty before every run.\n",
    "# 5. MASK_TARGET_DIR - After resizing, masks go this directory. Please ensure it's empty before every run.\n",
    "# 6. IMG_HEIGHT - The height of image & mask after resize\n",
    "# 7. IMG_WIDTH  - The width of image & mask after resize\n",
    "\n",
    "# You can alter the index of following variables based on images/masks that you need to resize.\n",
    "# 1. img_paths - List containing the names of complete path to each image under IMG_DIR\n",
    "# 1. masks_paths - List containing the names of complete path to each mask under MASK_DIR\n",
    "# I generally alter these lists to decide which files would participate in resize operation. Like in code below, \n",
    "#       img_paths = img_paths[20000:22000]\n",
    "#       mask_paths = mask_paths[20000:22000]\n",
    "# I am just 2000 images and masks for resize operation.\n",
    "\n",
    "# After setting these variables, one should use resize_and_save method. As the name indicates, it will take the images & masks\n",
    "# registered in img_paths & mask_paths for resizing and save operation. Images and masks would be resized according to variables\n",
    "# IMG_HEIGHT & IMG_WIDTH. And then are saved to IMG_TARGET_DIR (for images) & MASK_TARGET_DIR(for masks).\n",
    "\n",
    "# Author: Beejal Vibhakar\n",
    "# Version: 001\n",
    "# Last Modified Date: 09/Jan/2020"
   ]
  },
  {
   "cell_type": "code",
   "execution_count": 93,
   "metadata": {},
   "outputs": [],
   "source": [
    "import pandas as pd\n",
    "import numpy as np\n",
    "import os\n",
    "from glob import glob\n",
    "import cv2\n",
    "import matplotlib.pyplot as plt\n",
    "%matplotlib inline\n",
    "import time"
   ]
  },
  {
   "cell_type": "code",
   "execution_count": 95,
   "metadata": {},
   "outputs": [],
   "source": [
    "DATA_DIR = 'D:\\\\Beejal\\\\Education\\\\Great Lakes\\\\Projects\\\\Capstone\\\\Autonomous Driving\\\\Data\\\\'\n",
    "IMG_DIR = os.path.join(DATA_DIR, 'train_color')\n",
    "MASK_DIR = os.path.join(DATA_DIR, 'train_label')\n",
    "\n",
    "IMG_TARGET_DIR  = os.path.join(DATA_DIR, 'validation_color_2k')\n",
    "MASK_TARGET_DIR = os.path.join(DATA_DIR, 'validation_label_2k')"
   ]
  },
  {
   "cell_type": "code",
   "execution_count": 96,
   "metadata": {},
   "outputs": [
    {
     "data": {
      "text/plain": [
       "(2000, 2000)"
      ]
     },
     "execution_count": 96,
     "metadata": {},
     "output_type": "execute_result"
    }
   ],
   "source": [
    "img_paths  = glob(os.path.join(IMG_DIR, '*.*j*g'))\n",
    "mask_paths = glob(os.path.join(MASK_DIR, '*.*p*g'))\n",
    "\n",
    "img_paths = img_paths[20000:22000]\n",
    "mask_paths = mask_paths[20000:22000]\n",
    "len(img_paths), len(mask_paths)"
   ]
  },
  {
   "cell_type": "code",
   "execution_count": 97,
   "metadata": {},
   "outputs": [],
   "source": [
    "IMG_HEIGHT=320\n",
    "IMG_WIDTH=320"
   ]
  },
  {
   "cell_type": "code",
   "execution_count": 98,
   "metadata": {},
   "outputs": [],
   "source": [
    "def resize_and_save(end_index, verbose = False):\n",
    "    i = 1\n",
    "    start_time = time.time()\n",
    "    for img, msk in zip(img_paths, mask_paths):\n",
    "        if i == end_index:\n",
    "            return\n",
    "        else:\n",
    "            if verbose:\n",
    "                print(\"Index : \", i)\n",
    "\n",
    "            image = cv2.imread(img)\n",
    "            image =  cv2.resize(image, (IMG_WIDTH, IMG_HEIGHT))\n",
    "            \n",
    "            mask = cv2.imread(msk, cv2.IMREAD_UNCHANGED)//1000\n",
    "            if verbose:\n",
    "                print(\"Pre:\", np.unique(mask))\n",
    "            mask = cv2.resize(mask, (IMG_WIDTH, IMG_HEIGHT), interpolation = cv2.INTER_NEAREST)\n",
    "            if verbose:\n",
    "                print(\"Post:\", np.unique(mask))\n",
    "            \n",
    "            # Dump to file system\n",
    "            cv2.imwrite(os.path.join(IMG_TARGET_DIR, img.split('\\\\')[-1]), image)\n",
    "            cv2.imwrite(os.path.join(MASK_TARGET_DIR, msk.split('\\\\')[-1]), mask)\n",
    "            \n",
    "            if verbose:\n",
    "                m = cv2.imread(os.path.join(MASK_TARGET_DIR, msk.split('\\\\')[-1]), cv2.IMREAD_UNCHANGED)\n",
    "                print(\"Read:\", np.unique(m))\n",
    "            \n",
    "            if i % 100 == 0:\n",
    "                end_time = time.time()\n",
    "                print(f'Index = {i}, Time {end_time-start_time}')\n",
    "                start_time = time.time()\n",
    "            \n",
    "        i += 1"
   ]
  },
  {
   "cell_type": "code",
   "execution_count": 99,
   "metadata": {},
   "outputs": [
    {
     "name": "stdout",
     "output_type": "stream",
     "text": [
      "Index = 100, Time 52.06311225891113\n",
      "Index = 200, Time 54.506633043289185\n",
      "Index = 300, Time 59.27051019668579\n",
      "Index = 400, Time 59.01783490180969\n",
      "Index = 500, Time 56.34832167625427\n",
      "Index = 600, Time 56.53227472305298\n",
      "Index = 700, Time 56.99040651321411\n",
      "Index = 800, Time 56.95227384567261\n",
      "Index = 900, Time 61.080562353134155\n",
      "Index = 1000, Time 58.72399616241455\n",
      "Index = 1100, Time 56.132766008377075\n",
      "Index = 1200, Time 57.08483123779297\n",
      "Index = 1300, Time 57.32016348838806\n",
      "Index = 1400, Time 56.45892286300659\n",
      "Index = 1500, Time 56.3984911441803\n",
      "Index = 1600, Time 55.76037669181824\n",
      "Index = 1700, Time 55.609275102615356\n",
      "Index = 1800, Time 55.84925103187561\n",
      "Index = 1900, Time 53.61820983886719\n",
      "Index = 2000, Time 55.35450077056885\n"
     ]
    }
   ],
   "source": [
    "resize_and_save(2001)"
   ]
  },
  {
   "cell_type": "code",
   "execution_count": null,
   "metadata": {},
   "outputs": [],
   "source": []
  }
 ],
 "metadata": {
  "kernelspec": {
   "display_name": "Python 3",
   "language": "python",
   "name": "python3"
  },
  "language_info": {
   "codemirror_mode": {
    "name": "ipython",
    "version": 3
   },
   "file_extension": ".py",
   "mimetype": "text/x-python",
   "name": "python",
   "nbconvert_exporter": "python",
   "pygments_lexer": "ipython3",
   "version": "3.7.5"
  }
 },
 "nbformat": 4,
 "nbformat_minor": 2
}
