{
 "cells": [
  {
   "cell_type": "code",
   "execution_count": 7,
   "metadata": {},
   "outputs": [],
   "source": [
    "import numpy as np\n",
    "import pandas as pd\n",
    "import cv2\n",
    "import matplotlib.pyplot as plt\n",
    "import seaborn as sns\n",
    "import os\n",
    "from pathlib import Path\n",
    "from skimage.io import imread, imsave\n",
    "from PIL import Image\n",
    "import datetime\n",
    "from tqdm import tqdm"
   ]
  },
  {
   "cell_type": "code",
   "execution_count": 8,
   "metadata": {},
   "outputs": [
    {
     "name": "stdout",
     "output_type": "stream",
     "text": [
      "['convertVideotoCSV.py', 'EvaluationScriptsAndExamples.zip', 'sample_submission.csv', 'test.zip', 'test_video_list_and_name_mapping.zip', 'train_color', 'train_label', 'train_label.zip', 'train_video_list.zip']\n"
     ]
    }
   ],
   "source": [
    "print(os.listdir(\"E:\\Personal\\Great_Lakes\\cvpr-2018-autonomous-driving\"))"
   ]
  },
  {
   "cell_type": "code",
   "execution_count": 9,
   "metadata": {},
   "outputs": [],
   "source": [
    "data_dir = Path(\"E:\\Personal\\Great_Lakes\\cvpr-2018-autonomous-driving\")\n",
    "images_dir = data_dir / 'train_color'\n",
    "labels_dir = data_dir / 'train_label'"
   ]
  },
  {
   "cell_type": "code",
   "execution_count": 10,
   "metadata": {},
   "outputs": [
    {
     "name": "stdout",
     "output_type": "stream",
     "text": [
      "Number of images and labels in the training data: 39222  and 39222 respectively\n"
     ]
    }
   ],
   "source": [
    "train_images = sorted(os.listdir(images_dir))\n",
    "train_labels = sorted(os.listdir(labels_dir))\n",
    "\n",
    "print(\"Number of images and labels in the training data: {}  and {} respectively\".format(len(train_images), len(train_labels)))"
   ]
  },
  {
   "cell_type": "code",
   "execution_count": 11,
   "metadata": {},
   "outputs": [],
   "source": [
    "labelmap = {0:'others', \n",
    "            1:'rover', \n",
    "            17:'sky', \n",
    "            33:'car', \n",
    "            34:'motorbicycle', \n",
    "            35:'bicycle', \n",
    "            36:'person', \n",
    "            37:'rider', \n",
    "            38:'truck', \n",
    "            39:'bus', \n",
    "            40:'tricycle', \n",
    "            49:'road', \n",
    "            50:'siderwalk', \n",
    "            65:'traffic_cone', \n",
    "            66:'road_pile', \n",
    "            67:'fence', \n",
    "            81:'traffic_light', \n",
    "            82:'pole', \n",
    "            83:'traffic_sign', \n",
    "            84:'wall', \n",
    "            85:'dustbin', \n",
    "            86:'billboard', \n",
    "            97:'building', \n",
    "            98:'bridge', \n",
    "            99:'tunnel', \n",
    "            100:'overpass', \n",
    "            113:'vegatation', \n",
    "            161:'car_groups', \n",
    "            162:'motorbicycle_group', \n",
    "            163:'bicycle_group', \n",
    "            164:'person_group', \n",
    "            165:'rider_group', \n",
    "            166:'truck_group', \n",
    "            167:'bus_group', \n",
    "            168:'tricycle_group'}"
   ]
  },
  {
   "cell_type": "code",
   "execution_count": 13,
   "metadata": {},
   "outputs": [
    {
     "name": "stderr",
     "output_type": "stream",
     "text": [
      "100%|██████████| 2000/2000 [41:11<00:00,  1.12s/it]\n",
      "C:\\ProgramData\\Anaconda3\\lib\\site-packages\\ipykernel_launcher.py:35: FutureWarning: Sorting because non-concatenation axis is not aligned. A future version\n",
      "of pandas will change to not sort by default.\n",
      "\n",
      "To accept the future behavior, pass 'sort=False'.\n",
      "\n",
      "To retain the current behavior and silence the warning, pass 'sort=True'.\n",
      "\n"
     ]
    }
   ],
   "source": [
    "# Mark Start time\n",
    "start = datetime.datetime.now()\n",
    "\n",
    "# Create an empty dataframe\n",
    "data_df = pd.DataFrame()\n",
    "df_list = []\n",
    "\n",
    "# Iterate over data. I have just shown it for 500 images just to save time \n",
    "for idx in tqdm(range(2000)):\n",
    "    # Get the image name and corresponding label\n",
    "    img_name = train_images[idx]\n",
    "    label_name = train_labels[idx]\n",
    "    \n",
    "    # as_gray parameter is used to turn RBG image to grayscale\n",
    "    # using grayscale images will reduce size by 1/3rd\n",
    "    label = imread((labels_dir / train_labels[idx]), as_gray=True)    \n",
    "    img = imread((images_dir / train_images[idx]), as_gray=True)    \n",
    "    \n",
    "    # Save image to gray scale, commented since it takes lot of time\n",
    "    #imsave(\"gray_\"+img_name, img)    \n",
    "    \n",
    "    pixel_classes = np.unique(label)//1000    \n",
    "    classes, instance_count = np.unique(pixel_classes, return_counts=True) # Courtesy:https://www.kaggle.com/jpmiller/cvpr-eda\n",
    "    data_dict = dict(zip(classes, instance_count))\n",
    "    df = pd.DataFrame.from_dict(data_dict, orient='index').transpose()\n",
    "    df.rename(columns=labelmap, inplace=True)\n",
    "    df['img'] = img_name\n",
    "    df['label'] = label_name\n",
    "    df['size'] = f'{img.shape[0]}_{img.shape[1]}'\n",
    "    \n",
    "    # Concate to the final dataframe\n",
    "    #data_df = pd.concat([data_df, df], copy=False)\n",
    "    # append to the list of intermediate df list\n",
    "    df_list.append(df)\n",
    "    \n",
    "data_df = pd.concat(df_list, axis=0)\n",
    "del df_list\n",
    "\n",
    "# Fill the NaN with zero\n",
    "data_df = data_df.fillna(0)\n",
    "\n",
    "# Rearrange the columns\n",
    "cols = data_df.columns.tolist()\n",
    "cols = [x for x in cols if x not in ['img', 'label', 'size']]\n",
    "cols = ['img', 'label', 'size'] + cols\n",
    "data_df = data_df[cols]\n",
    "\n",
    "# Display the results\n",
    "data_df = data_df.reset_index(drop=True)\n",
    "data_df.to_excel(\"ImageWise_ClassCount_1.xls\")\n",
    "\n",
    "# Mark End time\n",
    "end = datetime.datetime.now()\n"
   ]
  },
  {
   "cell_type": "code",
   "execution_count": 14,
   "metadata": {},
   "outputs": [
    {
     "name": "stdout",
     "output_type": "stream",
     "text": [
      "Total time taken =  0:41:13.753455\n"
     ]
    }
   ],
   "source": [
    "duration = end - start\n",
    "print(\"Total time taken = \", duration)"
   ]
  },
  {
   "cell_type": "code",
   "execution_count": 15,
   "metadata": {},
   "outputs": [
    {
     "data": {
      "text/html": [
       "<div>\n",
       "<style scoped>\n",
       "    .dataframe tbody tr th:only-of-type {\n",
       "        vertical-align: middle;\n",
       "    }\n",
       "\n",
       "    .dataframe tbody tr th {\n",
       "        vertical-align: top;\n",
       "    }\n",
       "\n",
       "    .dataframe thead th {\n",
       "        text-align: right;\n",
       "    }\n",
       "</style>\n",
       "<table border=\"1\" class=\"dataframe\">\n",
       "  <thead>\n",
       "    <tr style=\"text-align: right;\">\n",
       "      <th></th>\n",
       "      <th>img</th>\n",
       "      <th>label</th>\n",
       "      <th>size</th>\n",
       "      <th>bicycle</th>\n",
       "      <th>bus</th>\n",
       "      <th>car</th>\n",
       "      <th>motorbicycle</th>\n",
       "      <th>others</th>\n",
       "      <th>person</th>\n",
       "      <th>rider</th>\n",
       "      <th>traffic_cone</th>\n",
       "      <th>tricycle</th>\n",
       "      <th>truck</th>\n",
       "    </tr>\n",
       "  </thead>\n",
       "  <tbody>\n",
       "    <tr>\n",
       "      <th>0</th>\n",
       "      <td>170908_061502408_Camera_5.jpg</td>\n",
       "      <td>170908_061502408_Camera_5_instanceIds.png</td>\n",
       "      <td>2710_3384</td>\n",
       "      <td>0.0</td>\n",
       "      <td>1.0</td>\n",
       "      <td>4.0</td>\n",
       "      <td>0.0</td>\n",
       "      <td>1</td>\n",
       "      <td>0.0</td>\n",
       "      <td>0.0</td>\n",
       "      <td>0.0</td>\n",
       "      <td>1.0</td>\n",
       "      <td>0.0</td>\n",
       "    </tr>\n",
       "    <tr>\n",
       "      <th>1</th>\n",
       "      <td>170908_061502408_Camera_6.jpg</td>\n",
       "      <td>170908_061502408_Camera_6_instanceIds.png</td>\n",
       "      <td>2710_3384</td>\n",
       "      <td>0.0</td>\n",
       "      <td>1.0</td>\n",
       "      <td>3.0</td>\n",
       "      <td>0.0</td>\n",
       "      <td>1</td>\n",
       "      <td>0.0</td>\n",
       "      <td>0.0</td>\n",
       "      <td>0.0</td>\n",
       "      <td>1.0</td>\n",
       "      <td>0.0</td>\n",
       "    </tr>\n",
       "    <tr>\n",
       "      <th>2</th>\n",
       "      <td>170908_061502547_Camera_5.jpg</td>\n",
       "      <td>170908_061502547_Camera_5_instanceIds.png</td>\n",
       "      <td>2710_3384</td>\n",
       "      <td>0.0</td>\n",
       "      <td>1.0</td>\n",
       "      <td>4.0</td>\n",
       "      <td>0.0</td>\n",
       "      <td>1</td>\n",
       "      <td>0.0</td>\n",
       "      <td>0.0</td>\n",
       "      <td>0.0</td>\n",
       "      <td>1.0</td>\n",
       "      <td>0.0</td>\n",
       "    </tr>\n",
       "    <tr>\n",
       "      <th>3</th>\n",
       "      <td>170908_061502547_Camera_6.jpg</td>\n",
       "      <td>170908_061502547_Camera_6_instanceIds.png</td>\n",
       "      <td>2710_3384</td>\n",
       "      <td>0.0</td>\n",
       "      <td>1.0</td>\n",
       "      <td>3.0</td>\n",
       "      <td>0.0</td>\n",
       "      <td>1</td>\n",
       "      <td>0.0</td>\n",
       "      <td>0.0</td>\n",
       "      <td>0.0</td>\n",
       "      <td>1.0</td>\n",
       "      <td>0.0</td>\n",
       "    </tr>\n",
       "    <tr>\n",
       "      <th>4</th>\n",
       "      <td>170908_061502686_Camera_5.jpg</td>\n",
       "      <td>170908_061502686_Camera_5_instanceIds.png</td>\n",
       "      <td>2710_3384</td>\n",
       "      <td>0.0</td>\n",
       "      <td>1.0</td>\n",
       "      <td>4.0</td>\n",
       "      <td>0.0</td>\n",
       "      <td>1</td>\n",
       "      <td>0.0</td>\n",
       "      <td>0.0</td>\n",
       "      <td>0.0</td>\n",
       "      <td>1.0</td>\n",
       "      <td>0.0</td>\n",
       "    </tr>\n",
       "    <tr>\n",
       "      <th>5</th>\n",
       "      <td>170908_061502686_Camera_6.jpg</td>\n",
       "      <td>170908_061502686_Camera_6_instanceIds.png</td>\n",
       "      <td>2710_3384</td>\n",
       "      <td>0.0</td>\n",
       "      <td>1.0</td>\n",
       "      <td>3.0</td>\n",
       "      <td>0.0</td>\n",
       "      <td>1</td>\n",
       "      <td>0.0</td>\n",
       "      <td>0.0</td>\n",
       "      <td>0.0</td>\n",
       "      <td>1.0</td>\n",
       "      <td>0.0</td>\n",
       "    </tr>\n",
       "    <tr>\n",
       "      <th>6</th>\n",
       "      <td>170908_061502825_Camera_5.jpg</td>\n",
       "      <td>170908_061502825_Camera_5_instanceIds.png</td>\n",
       "      <td>2710_3384</td>\n",
       "      <td>0.0</td>\n",
       "      <td>1.0</td>\n",
       "      <td>3.0</td>\n",
       "      <td>0.0</td>\n",
       "      <td>1</td>\n",
       "      <td>0.0</td>\n",
       "      <td>0.0</td>\n",
       "      <td>1.0</td>\n",
       "      <td>1.0</td>\n",
       "      <td>0.0</td>\n",
       "    </tr>\n",
       "    <tr>\n",
       "      <th>7</th>\n",
       "      <td>170908_061502825_Camera_6.jpg</td>\n",
       "      <td>170908_061502825_Camera_6_instanceIds.png</td>\n",
       "      <td>2710_3384</td>\n",
       "      <td>0.0</td>\n",
       "      <td>1.0</td>\n",
       "      <td>3.0</td>\n",
       "      <td>0.0</td>\n",
       "      <td>1</td>\n",
       "      <td>0.0</td>\n",
       "      <td>0.0</td>\n",
       "      <td>0.0</td>\n",
       "      <td>1.0</td>\n",
       "      <td>0.0</td>\n",
       "    </tr>\n",
       "    <tr>\n",
       "      <th>8</th>\n",
       "      <td>170908_061502964_Camera_5.jpg</td>\n",
       "      <td>170908_061502964_Camera_5_instanceIds.png</td>\n",
       "      <td>2710_3384</td>\n",
       "      <td>0.0</td>\n",
       "      <td>1.0</td>\n",
       "      <td>3.0</td>\n",
       "      <td>0.0</td>\n",
       "      <td>1</td>\n",
       "      <td>0.0</td>\n",
       "      <td>0.0</td>\n",
       "      <td>1.0</td>\n",
       "      <td>1.0</td>\n",
       "      <td>0.0</td>\n",
       "    </tr>\n",
       "    <tr>\n",
       "      <th>9</th>\n",
       "      <td>170908_061502964_Camera_6.jpg</td>\n",
       "      <td>170908_061502964_Camera_6_instanceIds.png</td>\n",
       "      <td>2710_3384</td>\n",
       "      <td>0.0</td>\n",
       "      <td>1.0</td>\n",
       "      <td>2.0</td>\n",
       "      <td>0.0</td>\n",
       "      <td>1</td>\n",
       "      <td>0.0</td>\n",
       "      <td>0.0</td>\n",
       "      <td>0.0</td>\n",
       "      <td>1.0</td>\n",
       "      <td>0.0</td>\n",
       "    </tr>\n",
       "  </tbody>\n",
       "</table>\n",
       "</div>"
      ],
      "text/plain": [
       "                             img                                      label  \\\n",
       "0  170908_061502408_Camera_5.jpg  170908_061502408_Camera_5_instanceIds.png   \n",
       "1  170908_061502408_Camera_6.jpg  170908_061502408_Camera_6_instanceIds.png   \n",
       "2  170908_061502547_Camera_5.jpg  170908_061502547_Camera_5_instanceIds.png   \n",
       "3  170908_061502547_Camera_6.jpg  170908_061502547_Camera_6_instanceIds.png   \n",
       "4  170908_061502686_Camera_5.jpg  170908_061502686_Camera_5_instanceIds.png   \n",
       "5  170908_061502686_Camera_6.jpg  170908_061502686_Camera_6_instanceIds.png   \n",
       "6  170908_061502825_Camera_5.jpg  170908_061502825_Camera_5_instanceIds.png   \n",
       "7  170908_061502825_Camera_6.jpg  170908_061502825_Camera_6_instanceIds.png   \n",
       "8  170908_061502964_Camera_5.jpg  170908_061502964_Camera_5_instanceIds.png   \n",
       "9  170908_061502964_Camera_6.jpg  170908_061502964_Camera_6_instanceIds.png   \n",
       "\n",
       "        size  bicycle  bus  car  motorbicycle  others  person  rider  \\\n",
       "0  2710_3384      0.0  1.0  4.0           0.0       1     0.0    0.0   \n",
       "1  2710_3384      0.0  1.0  3.0           0.0       1     0.0    0.0   \n",
       "2  2710_3384      0.0  1.0  4.0           0.0       1     0.0    0.0   \n",
       "3  2710_3384      0.0  1.0  3.0           0.0       1     0.0    0.0   \n",
       "4  2710_3384      0.0  1.0  4.0           0.0       1     0.0    0.0   \n",
       "5  2710_3384      0.0  1.0  3.0           0.0       1     0.0    0.0   \n",
       "6  2710_3384      0.0  1.0  3.0           0.0       1     0.0    0.0   \n",
       "7  2710_3384      0.0  1.0  3.0           0.0       1     0.0    0.0   \n",
       "8  2710_3384      0.0  1.0  3.0           0.0       1     0.0    0.0   \n",
       "9  2710_3384      0.0  1.0  2.0           0.0       1     0.0    0.0   \n",
       "\n",
       "   traffic_cone  tricycle  truck  \n",
       "0           0.0       1.0    0.0  \n",
       "1           0.0       1.0    0.0  \n",
       "2           0.0       1.0    0.0  \n",
       "3           0.0       1.0    0.0  \n",
       "4           0.0       1.0    0.0  \n",
       "5           0.0       1.0    0.0  \n",
       "6           1.0       1.0    0.0  \n",
       "7           0.0       1.0    0.0  \n",
       "8           1.0       1.0    0.0  \n",
       "9           0.0       1.0    0.0  "
      ]
     },
     "execution_count": 15,
     "metadata": {},
     "output_type": "execute_result"
    }
   ],
   "source": [
    "data_df.head(10)"
   ]
  },
  {
   "cell_type": "code",
   "execution_count": 16,
   "metadata": {},
   "outputs": [
    {
     "data": {
      "text/html": [
       "<div>\n",
       "<style scoped>\n",
       "    .dataframe tbody tr th:only-of-type {\n",
       "        vertical-align: middle;\n",
       "    }\n",
       "\n",
       "    .dataframe tbody tr th {\n",
       "        vertical-align: top;\n",
       "    }\n",
       "\n",
       "    .dataframe thead th {\n",
       "        text-align: right;\n",
       "    }\n",
       "</style>\n",
       "<table border=\"1\" class=\"dataframe\">\n",
       "  <thead>\n",
       "    <tr style=\"text-align: right;\">\n",
       "      <th></th>\n",
       "      <th>others</th>\n",
       "      <th>rover</th>\n",
       "      <th>sky</th>\n",
       "      <th>car</th>\n",
       "      <th>motorbicycle</th>\n",
       "      <th>bicycle</th>\n",
       "      <th>person</th>\n",
       "      <th>rider</th>\n",
       "      <th>truck</th>\n",
       "      <th>bus</th>\n",
       "      <th>...</th>\n",
       "      <th>overpass</th>\n",
       "      <th>vegatation</th>\n",
       "      <th>car_groups</th>\n",
       "      <th>motorbicycle_group</th>\n",
       "      <th>bicycle_group</th>\n",
       "      <th>person_group</th>\n",
       "      <th>rider_group</th>\n",
       "      <th>truck_group</th>\n",
       "      <th>bus_group</th>\n",
       "      <th>tricycle_group</th>\n",
       "    </tr>\n",
       "  </thead>\n",
       "  <tbody>\n",
       "    <tr>\n",
       "      <th>Count</th>\n",
       "      <td>2000</td>\n",
       "      <td>0</td>\n",
       "      <td>0</td>\n",
       "      <td>1972</td>\n",
       "      <td>2</td>\n",
       "      <td>174</td>\n",
       "      <td>223</td>\n",
       "      <td>1</td>\n",
       "      <td>86</td>\n",
       "      <td>1414</td>\n",
       "      <td>...</td>\n",
       "      <td>0</td>\n",
       "      <td>0</td>\n",
       "      <td>0</td>\n",
       "      <td>0</td>\n",
       "      <td>0</td>\n",
       "      <td>0</td>\n",
       "      <td>0</td>\n",
       "      <td>0</td>\n",
       "      <td>0</td>\n",
       "      <td>0</td>\n",
       "    </tr>\n",
       "  </tbody>\n",
       "</table>\n",
       "<p>1 rows × 35 columns</p>\n",
       "</div>"
      ],
      "text/plain": [
       "       others  rover  sky   car  motorbicycle  bicycle  person  rider  truck  \\\n",
       "Count    2000      0    0  1972             2      174     223      1     86   \n",
       "\n",
       "        bus       ...        overpass  vegatation  car_groups  \\\n",
       "Count  1414       ...               0           0           0   \n",
       "\n",
       "       motorbicycle_group  bicycle_group  person_group  rider_group  \\\n",
       "Count                   0              0             0            0   \n",
       "\n",
       "       truck_group  bus_group  tricycle_group  \n",
       "Count            0          0               0  \n",
       "\n",
       "[1 rows x 35 columns]"
      ]
     },
     "execution_count": 16,
     "metadata": {},
     "output_type": "execute_result"
    }
   ],
   "source": [
    "# Count in how many images a particular class is found\n",
    "clss_count = []\n",
    "for cls_label in labelmap.values():\n",
    "    if cls_label in data_df.columns:\n",
    "        clss_count.append(data_df[data_df[cls_label] > 0].shape[0])\n",
    "    else:\n",
    "        clss_count.append(0)\n",
    "        \n",
    "df_cls_count = pd.DataFrame(index=labelmap.values(), data={'Count' : clss_count})\n",
    "df_cls_count.T"
   ]
  },
  {
   "cell_type": "code",
   "execution_count": 17,
   "metadata": {},
   "outputs": [
    {
     "data": {
      "text/plain": [
       "<matplotlib.axes._subplots.AxesSubplot at 0x21540c39278>"
      ]
     },
     "execution_count": 17,
     "metadata": {},
     "output_type": "execute_result"
    },
    {
     "data": {
      "image/png": "[encoded data removed]",
      "text/plain": [
       "<Figure size 1080x504 with 1 Axes>"
      ]
     },
     "metadata": {
      "needs_background": "light"
     },
     "output_type": "display_data"
    }
   ],
   "source": [
    "plt.figure(figsize=(15, 7))\n",
    "sns.countplot(data_df['car'])"
   ]
  },
  {
   "cell_type": "code",
   "execution_count": 18,
   "metadata": {},
   "outputs": [
    {
     "data": {
      "text/plain": [
       "<matplotlib.axes._subplots.AxesSubplot at 0x215427342b0>"
      ]
     },
     "execution_count": 18,
     "metadata": {},
     "output_type": "execute_result"
    },
    {
     "data": {
      "image/png": "[encoded data removed]",
      "text/plain": [
       "<Figure size 432x288 with 1 Axes>"
      ]
     },
     "metadata": {
      "needs_background": "light"
     },
     "output_type": "display_data"
    }
   ],
   "source": [
    "sns.countplot(data_df['motorbicycle'])"
   ]
  },
  {
   "cell_type": "code",
   "execution_count": 19,
   "metadata": {},
   "outputs": [
    {
     "data": {
      "text/plain": [
       "<matplotlib.axes._subplots.AxesSubplot at 0x21543f01ef0>"
      ]
     },
     "execution_count": 19,
     "metadata": {},
     "output_type": "execute_result"
    },
    {
     "data": {
      "image/png": "[encoded data removed]",
      "text/plain": [
       "<Figure size 432x288 with 1 Axes>"
      ]
     },
     "metadata": {
      "needs_background": "light"
     },
     "output_type": "display_data"
    }
   ],
   "source": [
    "sns.countplot(data_df['bicycle'])"
   ]
  },
  {
   "cell_type": "code",
   "execution_count": 20,
   "metadata": {},
   "outputs": [
    {
     "data": {
      "text/plain": [
       "<matplotlib.axes._subplots.AxesSubplot at 0x21542baecf8>"
      ]
     },
     "execution_count": 20,
     "metadata": {},
     "output_type": "execute_result"
    },
    {
     "data": {
      "image/png": "[encoded data removed]",
      "text/plain": [
       "<Figure size 432x288 with 1 Axes>"
      ]
     },
     "metadata": {
      "needs_background": "light"
     },
     "output_type": "display_data"
    }
   ],
   "source": [
    "sns.countplot(data_df['person'])"
   ]
  },
  {
   "cell_type": "code",
   "execution_count": 21,
   "metadata": {},
   "outputs": [
    {
     "data": {
      "text/plain": [
       "<matplotlib.axes._subplots.AxesSubplot at 0x21543238cf8>"
      ]
     },
     "execution_count": 21,
     "metadata": {},
     "output_type": "execute_result"
    },
    {
     "data": {
      "image/png": "[encoded data removed]",
      "text/plain": [
       "<Figure size 432x288 with 1 Axes>"
      ]
     },
     "metadata": {
      "needs_background": "light"
     },
     "output_type": "display_data"
    }
   ],
   "source": [
    "sns.countplot(data_df['truck'])"
   ]
  },
  {
   "cell_type": "code",
   "execution_count": 22,
   "metadata": {},
   "outputs": [
    {
     "data": {
      "text/plain": [
       "<matplotlib.axes._subplots.AxesSubplot at 0x21543496fd0>"
      ]
     },
     "execution_count": 22,
     "metadata": {},
     "output_type": "execute_result"
    },
    {
     "data": {
      "image/png": "[encoded data removed]",
      "text/plain": [
       "<Figure size 432x288 with 1 Axes>"
      ]
     },
     "metadata": {
      "needs_background": "light"
     },
     "output_type": "display_data"
    }
   ],
   "source": [
    "sns.countplot(data_df['bus'])"
   ]
  },
  {
   "cell_type": "code",
   "execution_count": 23,
   "metadata": {},
   "outputs": [
    {
     "data": {
      "text/plain": [
       "<matplotlib.axes._subplots.AxesSubplot at 0x2154382df28>"
      ]
     },
     "execution_count": 23,
     "metadata": {},
     "output_type": "execute_result"
    },
    {
     "data": {
      "image/png": "[encoded data removed]",
      "text/plain": [
       "<Figure size 432x288 with 1 Axes>"
      ]
     },
     "metadata": {
      "needs_background": "light"
     },
     "output_type": "display_data"
    }
   ],
   "source": [
    "sns.countplot(data_df['tricycle'])"
   ]
  },
  {
   "cell_type": "code",
   "execution_count": 24,
   "metadata": {},
   "outputs": [
    {
     "data": {
      "text/plain": [
       "2710_3384    2000\n",
       "Name: size, dtype: int64"
      ]
     },
     "execution_count": 24,
     "metadata": {},
     "output_type": "execute_result"
    }
   ],
   "source": [
    "data_df['size'].value_counts()\n",
    "# So all 2K images are of same size"
   ]
  },
  {
   "cell_type": "code",
   "execution_count": null,
   "metadata": {},
   "outputs": [],
   "source": []
  },
  {
   "cell_type": "code",
   "execution_count": null,
   "metadata": {},
   "outputs": [],
   "source": []
  }
 ],
 "metadata": {
  "kernelspec": {
   "display_name": "Python 3",
   "language": "python",
   "name": "python3"
  },
  "language_info": {
   "codemirror_mode": {
    "name": "ipython",
    "version": 3
   },
   "file_extension": ".py",
   "mimetype": "text/x-python",
   "name": "python",
   "nbconvert_exporter": "python",
   "pygments_lexer": "ipython3",
   "version": "3.7.1"
  }
 },
 "nbformat": 4,
 "nbformat_minor": 2
}
